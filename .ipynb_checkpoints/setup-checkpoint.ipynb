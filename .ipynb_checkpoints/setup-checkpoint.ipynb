{
 "cells": [
  {
   "cell_type": "code",
   "execution_count": 1,
   "metadata": {},
   "outputs": [],
   "source": [
    "# Import Operating System\n",
    "import os"
   ]
  },
  {
   "cell_type": "code",
   "execution_count": 2,
   "metadata": {},
   "outputs": [],
   "source": [
    "labels = ['faces', 'stamps']\n",
    "IMAGES_PATH = os.path.join('Tensorflow', 'workspace', 'images', 'collectedimages')"
   ]
  },
  {
   "cell_type": "code",
   "execution_count": 3,
   "metadata": {},
   "outputs": [],
   "source": [
    "if not os.path.exists(IMAGES_PATH):\n",
    "    if os.name == 'posix':\n",
    "        !mkdir -p {IMAGES_PATH}\n",
    "    if os.name == 'nt':\n",
    "         !mkdir {IMAGES_PATH}\n",
    "for label in labels:\n",
    "    path = os.path.join(IMAGES_PATH, label)\n",
    "    if not os.path.exists(path):\n",
    "        !mkdir {path}"
   ]
  },
  {
   "cell_type": "code",
   "execution_count": 4,
   "metadata": {},
   "outputs": [
    {
     "name": "stdout",
     "output_type": "stream",
     "text": [
      "Collecting pyqt5\n",
      "  Using cached PyQt5-5.15.7-cp37-abi3-win_amd64.whl (6.8 MB)\n",
      "Requirement already satisfied: lxml in c:\\users\\matte\\anaconda3\\lib\\site-packages (4.3.4)\n",
      "Collecting lxml\n",
      "  Using cached lxml-4.9.1-cp37-cp37m-win_amd64.whl (3.6 MB)\n",
      "Collecting PyQt5-sip<13,>=12.11\n",
      "  Using cached PyQt5_sip-12.11.0-cp37-cp37m-win_amd64.whl (77 kB)\n",
      "Collecting PyQt5-Qt5>=5.15.0\n",
      "  Using cached PyQt5_Qt5-5.15.2-py3-none-win_amd64.whl (50.1 MB)\n",
      "Installing collected packages: PyQt5-Qt5, PyQt5-sip, lxml, pyqt5\n",
      "  Attempting uninstall: lxml\n",
      "    Found existing installation: lxml 4.3.4\n",
      "    Uninstalling lxml-4.3.4:\n",
      "      Successfully uninstalled lxml-4.3.4\n",
      "Successfully installed PyQt5-Qt5-5.15.2 PyQt5-sip-12.11.0 lxml-4.9.1 pyqt5-5.15.7\n"
     ]
    },
    {
     "name": "stderr",
     "output_type": "stream",
     "text": [
      "WARNING: Ignoring invalid distribution -rotobuf (c:\\users\\matte\\anaconda3\\lib\\site-packages)\n",
      "WARNING: Ignoring invalid distribution -rotobuf (c:\\users\\matte\\anaconda3\\lib\\site-packages)\n",
      "WARNING: Ignoring invalid distribution -rotobuf (c:\\users\\matte\\anaconda3\\lib\\site-packages)\n",
      "    WARNING: Ignoring invalid distribution -rotobuf (c:\\users\\matte\\anaconda3\\lib\\site-packages)\n",
      "WARNING: Ignoring invalid distribution -rotobuf (c:\\users\\matte\\anaconda3\\lib\\site-packages)\n",
      "WARNING: Ignoring invalid distribution -rotobuf (c:\\users\\matte\\anaconda3\\lib\\site-packages)\n",
      "WARNING: Ignoring invalid distribution -rotobuf (c:\\users\\matte\\anaconda3\\lib\\site-packages)\n",
      "WARNING: Ignoring invalid distribution -rotobuf (c:\\users\\matte\\anaconda3\\lib\\site-packages)\n",
      "ERROR: pip's dependency resolver does not currently take into account all the packages that are installed. This behaviour is the source of the following dependency conflicts.\n",
      "spyder 3.3.6 requires pyqtwebengine<5.13; python_version >= \"3\", which is not installed.\n",
      "spyder 3.3.6 requires pyqt5<5.13; python_version >= \"3\", but you have pyqt5 5.15.7 which is incompatible.\n",
      "WARNING: Ignoring invalid distribution -rotobuf (c:\\users\\matte\\anaconda3\\lib\\site-packages)\n",
      "WARNING: Ignoring invalid distribution -rotobuf (c:\\users\\matte\\anaconda3\\lib\\site-packages)\n",
      "WARNING: Ignoring invalid distribution -rotobuf (c:\\users\\matte\\anaconda3\\lib\\site-packages)\n"
     ]
    }
   ],
   "source": [
    "!pip install --upgrade pyqt5 lxml"
   ]
  },
  {
   "cell_type": "code",
   "execution_count": 5,
   "metadata": {},
   "outputs": [],
   "source": [
    "LABELIMG_PATH = os.path.join('Tensorflow', 'labelimg')"
   ]
  },
  {
   "cell_type": "code",
   "execution_count": 6,
   "metadata": {},
   "outputs": [
    {
     "name": "stderr",
     "output_type": "stream",
     "text": [
      "Cloning into 'Tensorflow\\labelimg'...\n"
     ]
    }
   ],
   "source": [
    "if not os.path.exists(LABELIMG_PATH):\n",
    "    !mkdir {LABELIMG_PATH}\n",
    "    !git clone https://github.com/tzutalin/labelImg {LABELIMG_PATH}"
   ]
  },
  {
   "cell_type": "code",
   "execution_count": null,
   "metadata": {},
   "outputs": [],
   "source": [
    "if os.name == 'posix':\n",
    "    !make qt5py3\n",
    "if os.name =='nt':\n",
    "    !cd {LABELIMG_PATH} && pyrcc5 -o libs/resources.py resources.qrc"
   ]
  },
  {
   "cell_type": "code",
   "execution_count": 5,
   "metadata": {},
   "outputs": [
    {
     "name": "stdout",
     "output_type": "stream",
     "text": [
      "Image:C:\\Users\\matte\\Documents\\Università\\GroupProject\\ImageCatalogingSupport\\Tensorflow\\workspace\\images\\collectedimages\\stamps\\8.jpg -> Annotation:C:/Users/matte/Documents/Università/GroupProject/ImageCatalogingSupport/Tensorflow/workspace/images/collectedimages/stamps\\8.xml\n",
      "Image:C:\\Users\\matte\\Documents\\Università\\GroupProject\\ImageCatalogingSupport\\Tensorflow\\workspace\\images\\collectedimages\\stamps\\9.jpg -> Annotation:C:/Users/matte/Documents/Università/GroupProject/ImageCatalogingSupport/Tensorflow/workspace/images/collectedimages/stamps\\9.xml\n",
      "Cancel creation.\n",
      "Image:C:\\Users\\matte\\Documents\\Università\\GroupProject\\ImageCatalogingSupport\\Tensorflow\\workspace\\images\\collectedimages\\stamps\\29.jpg -> Annotation:C:/Users/matte/Documents/Università/GroupProject/ImageCatalogingSupport/Tensorflow/workspace/images/collectedimages/stamps\\29.xml\n",
      "Image:C:\\Users\\matte\\Documents\\Università\\GroupProject\\ImageCatalogingSupport\\Tensorflow\\workspace\\images\\collectedimages\\stamps\\53.jpg -> Annotation:C:/Users/matte/Documents/Università/GroupProject/ImageCatalogingSupport/Tensorflow/workspace/images/collectedimages/stamps\\53.xml\n",
      "Image:C:\\Users\\matte\\Documents\\Università\\GroupProject\\ImageCatalogingSupport\\Tensorflow\\workspace\\images\\collectedimages\\stamps\\165839580572629208.jpg -> Annotation:C:/Users/matte/Documents/Università/GroupProject/ImageCatalogingSupport/Tensorflow/workspace/images/collectedimages/stamps\\165839580572629208.xml\n",
      "Image:C:\\Users\\matte\\Documents\\Università\\GroupProject\\ImageCatalogingSupport\\Tensorflow\\workspace\\images\\collectedimages\\stamps\\stamp_60_3503218655.jpg -> Annotation:C:/Users/matte/Documents/Università/GroupProject/ImageCatalogingSupport/Tensorflow/workspace/images/collectedimages/stamps\\stamp_60_3503218655.xml\n",
      "Image:C:\\Users\\matte\\Documents\\Università\\GroupProject\\ImageCatalogingSupport\\Tensorflow\\workspace\\images\\collectedimages\\stamps\\stamp_62_6118662988.jpg -> Annotation:C:/Users/matte/Documents/Università/GroupProject/ImageCatalogingSupport/Tensorflow/workspace/images/collectedimages/stamps\\stamp_62_6118662988.xml\n",
      "Image:C:\\Users\\matte\\Documents\\Università\\GroupProject\\ImageCatalogingSupport\\Tensorflow\\workspace\\images\\collectedimages\\stamps\\stamp_64_9783203389.jpg -> Annotation:C:/Users/matte/Documents/Università/GroupProject/ImageCatalogingSupport/Tensorflow/workspace/images/collectedimages/stamps\\stamp_64_9783203389.xml\n",
      "Image:C:\\Users\\matte\\Documents\\Università\\GroupProject\\ImageCatalogingSupport\\Tensorflow\\workspace\\images\\collectedimages\\stamps\\stamp_66_2857003045.jpg -> Annotation:C:/Users/matte/Documents/Università/GroupProject/ImageCatalogingSupport/Tensorflow/workspace/images/collectedimages/stamps\\stamp_66_2857003045.xml\n",
      "Image:C:\\Users\\matte\\Documents\\Università\\GroupProject\\ImageCatalogingSupport\\Tensorflow\\workspace\\images\\collectedimages\\stamps\\stamp_64_9783203389.jpg -> Annotation:C:/Users/matte/Documents/Università/GroupProject/ImageCatalogingSupport/Tensorflow/workspace/images/collectedimages/stamps\\stamp_64_9783203389.xml\n",
      "Image:C:\\Users\\matte\\Documents\\Università\\GroupProject\\ImageCatalogingSupport\\Tensorflow\\workspace\\images\\collectedimages\\stamps\\stamp_62_6118662988.jpg -> Annotation:C:/Users/matte/Documents/Università/GroupProject/ImageCatalogingSupport/Tensorflow/workspace/images/collectedimages/stamps\\stamp_62_6118662988.xml\n",
      "Image:C:\\Users\\matte\\Documents\\Università\\GroupProject\\ImageCatalogingSupport\\Tensorflow\\workspace\\images\\collectedimages\\stamps\\stamp_60_3503218655.jpg -> Annotation:C:/Users/matte/Documents/Università/GroupProject/ImageCatalogingSupport/Tensorflow/workspace/images/collectedimages/stamps\\stamp_60_3503218655.xml\n",
      "Image:C:\\Users\\matte\\Documents\\Università\\GroupProject\\ImageCatalogingSupport\\Tensorflow\\workspace\\images\\collectedimages\\stamps\\stamp_66_2857003045.jpg -> Annotation:C:/Users/matte/Documents/Università/GroupProject/ImageCatalogingSupport/Tensorflow/workspace/images/collectedimages/stamps\\stamp_66_2857003045.xml\n",
      "Image:C:\\Users\\matte\\Documents\\Università\\GroupProject\\ImageCatalogingSupport\\Tensorflow\\workspace\\images\\collectedimages\\stamps\\stamp_68_2159472484.jpg -> Annotation:C:/Users/matte/Documents/Università/GroupProject/ImageCatalogingSupport/Tensorflow/workspace/images/collectedimages/stamps\\stamp_68_2159472484.xml\n",
      "Image:C:\\Users\\matte\\Documents\\Università\\GroupProject\\ImageCatalogingSupport\\Tensorflow\\workspace\\images\\collectedimages\\stamps\\stamp_70_8165852912.jpg -> Annotation:C:/Users/matte/Documents/Università/GroupProject/ImageCatalogingSupport/Tensorflow/workspace/images/collectedimages/stamps\\stamp_70_8165852912.xml\n",
      "Image:C:\\Users\\matte\\Documents\\Università\\GroupProject\\ImageCatalogingSupport\\Tensorflow\\workspace\\images\\collectedimages\\stamps\\stamp_72_2247165024.jpg -> Annotation:C:/Users/matte/Documents/Università/GroupProject/ImageCatalogingSupport/Tensorflow/workspace/images/collectedimages/stamps\\stamp_72_2247165024.xml\n",
      "Image:C:\\Users\\matte\\Documents\\Università\\GroupProject\\ImageCatalogingSupport\\Tensorflow\\workspace\\images\\collectedimages\\stamps\\stamp_74_3585965820.jpg -> Annotation:C:/Users/matte/Documents/Università/GroupProject/ImageCatalogingSupport/Tensorflow/workspace/images/collectedimages/stamps\\stamp_74_3585965820.xml\n",
      "Cancel creation.\n",
      "Image:C:\\Users\\matte\\Documents\\Università\\GroupProject\\ImageCatalogingSupport\\Tensorflow\\workspace\\images\\collectedimages\\faces\\face_5_4558968595.jpg -> Annotation:C:/Users/matte/Documents/Università/GroupProject/ImageCatalogingSupport/Tensorflow/workspace/images/collectedimages/faces\\face_5_4558968595.xml\n",
      "Image:C:\\Users\\matte\\Documents\\Università\\GroupProject\\ImageCatalogingSupport\\Tensorflow\\workspace\\images\\collectedimages\\faces\\face_7_4967339388.jpg -> Annotation:C:/Users/matte/Documents/Università/GroupProject/ImageCatalogingSupport/Tensorflow/workspace/images/collectedimages/faces\\face_7_4967339388.xml\n",
      "Image:C:\\Users\\matte\\Documents\\Università\\GroupProject\\ImageCatalogingSupport\\Tensorflow\\workspace\\images\\collectedimages\\faces\\face_9_6862604689.jpg -> Annotation:C:/Users/matte/Documents/Università/GroupProject/ImageCatalogingSupport/Tensorflow/workspace/images/collectedimages/faces\\face_9_6862604689.xml\n",
      "Image:C:\\Users\\matte\\Documents\\Università\\GroupProject\\ImageCatalogingSupport\\Tensorflow\\workspace\\images\\collectedimages\\faces\\face_15_5458051924.jpg -> Annotation:C:/Users/matte/Documents/Università/GroupProject/ImageCatalogingSupport/Tensorflow/workspace/images/collectedimages/faces\\face_15_5458051924.xml\n",
      "Image:C:\\Users\\matte\\Documents\\Università\\GroupProject\\ImageCatalogingSupport\\Tensorflow\\workspace\\images\\collectedimages\\faces\\face_19_3220639156.jpg -> Annotation:C:/Users/matte/Documents/Università/GroupProject/ImageCatalogingSupport/Tensorflow/workspace/images/collectedimages/faces\\face_19_3220639156.xml\n",
      "Image:C:\\Users\\matte\\Documents\\Università\\GroupProject\\ImageCatalogingSupport\\Tensorflow\\workspace\\images\\collectedimages\\faces\\face_19_4054460281.jpg -> Annotation:C:/Users/matte/Documents/Università/GroupProject/ImageCatalogingSupport/Tensorflow/workspace/images/collectedimages/faces\\face_19_4054460281.xml\n",
      "Image:C:\\Users\\matte\\Documents\\Università\\GroupProject\\ImageCatalogingSupport\\Tensorflow\\workspace\\images\\collectedimages\\faces\\face_22_4077291064.jpg -> Annotation:C:/Users/matte/Documents/Università/GroupProject/ImageCatalogingSupport/Tensorflow/workspace/images/collectedimages/faces\\face_22_4077291064.xml\n",
      "Cancel creation.\n",
      "Image:C:\\Users\\matte\\Documents\\Università\\GroupProject\\ImageCatalogingSupport\\Tensorflow\\workspace\\images\\collectedimages\\faces\\face_32_6360106242.jpg -> Annotation:C:/Users/matte/Documents/Università/GroupProject/ImageCatalogingSupport/Tensorflow/workspace/images/collectedimages/faces\\face_32_6360106242.xml\n",
      "Image:C:\\Users\\matte\\Documents\\Università\\GroupProject\\ImageCatalogingSupport\\Tensorflow\\workspace\\images\\collectedimages\\faces\\face_38_9611048697.jpg -> Annotation:C:/Users/matte/Documents/Università/GroupProject/ImageCatalogingSupport/Tensorflow/workspace/images/collectedimages/faces\\face_38_9611048697.xml\n",
      "Image:C:\\Users\\matte\\Documents\\Università\\GroupProject\\ImageCatalogingSupport\\Tensorflow\\workspace\\images\\collectedimages\\faces\\face_42_8374281463.jpg -> Annotation:C:/Users/matte/Documents/Università/GroupProject/ImageCatalogingSupport/Tensorflow/workspace/images/collectedimages/faces\\face_42_8374281463.xml\n",
      "Image:C:\\Users\\matte\\Documents\\Università\\GroupProject\\ImageCatalogingSupport\\Tensorflow\\workspace\\images\\collectedimages\\faces\\face_44_2225244140.jpg -> Annotation:C:/Users/matte/Documents/Università/GroupProject/ImageCatalogingSupport/Tensorflow/workspace/images/collectedimages/faces\\face_44_2225244140.xml\n",
      "Image:C:\\Users\\matte\\Documents\\Università\\GroupProject\\ImageCatalogingSupport\\Tensorflow\\workspace\\images\\collectedimages\\faces\\face_53_4466542379.jpg -> Annotation:C:/Users/matte/Documents/Università/GroupProject/ImageCatalogingSupport/Tensorflow/workspace/images/collectedimages/faces\\face_53_4466542379.xml\n",
      "Cancel creation.\n",
      "Image:C:\\Users\\matte\\Documents\\Università\\GroupProject\\ImageCatalogingSupport\\Tensorflow\\workspace\\images\\collectedimages\\faces\\face_57_3813912921.jpg -> Annotation:C:/Users/matte/Documents/Università/GroupProject/ImageCatalogingSupport/Tensorflow/workspace/images/collectedimages/faces\\face_57_3813912921.xml\n",
      "Image:C:\\Users\\matte\\Documents\\Università\\GroupProject\\ImageCatalogingSupport\\Tensorflow\\workspace\\images\\collectedimages\\faces\\face_58_4392810618.jpg -> Annotation:C:/Users/matte/Documents/Università/GroupProject/ImageCatalogingSupport/Tensorflow/workspace/images/collectedimages/faces\\face_58_4392810618.xml\n"
     ]
    }
   ],
   "source": [
    "!cd {LABELIMG_PATH} && python labelImg.py"
   ]
  },
  {
   "cell_type": "code",
   "execution_count": null,
   "metadata": {},
   "outputs": [],
   "source": []
  }
 ],
 "metadata": {
  "kernelspec": {
   "display_name": "imagesupport",
   "language": "python",
   "name": "imagesupport"
  },
  "language_info": {
   "codemirror_mode": {
    "name": "ipython",
    "version": 3
   },
   "file_extension": ".py",
   "mimetype": "text/x-python",
   "name": "python",
   "nbconvert_exporter": "python",
   "pygments_lexer": "ipython3",
   "version": "3.7.3"
  }
 },
 "nbformat": 4,
 "nbformat_minor": 2
}
